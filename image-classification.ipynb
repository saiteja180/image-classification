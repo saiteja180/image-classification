{
 "cells": [
  {
   "cell_type": "code",
   "execution_count": 1,
   "id": "b4cbb577",
   "metadata": {
    "_cell_guid": "b1076dfc-b9ad-4769-8c92-a6c4dae69d19",
    "_uuid": "8f2839f25d086af736a60e9eeb907d3b93b6e0e5",
    "execution": {
     "iopub.execute_input": "2023-08-22T06:49:05.393988Z",
     "iopub.status.busy": "2023-08-22T06:49:05.393598Z",
     "iopub.status.idle": "2023-08-22T06:49:05.406793Z",
     "shell.execute_reply": "2023-08-22T06:49:05.405551Z"
    },
    "papermill": {
     "duration": 0.029326,
     "end_time": "2023-08-22T06:49:05.409353",
     "exception": false,
     "start_time": "2023-08-22T06:49:05.380027",
     "status": "completed"
    },
    "tags": []
   },
   "outputs": [],
   "source": [
    "# This Python 3 environment comes with many helpful analytics libraries installed\n",
    "# It is defined by the kaggle/python Docker image: https://github.com/kaggle/docker-python\n",
    "# For example, here's several helpful packages to load\n",
    "\n",
    "import numpy as np # linear algebra\n",
    "import pandas as pd # data processing, CSV file I/O (e.g. pd.read_csv)\n",
    "\n",
    "# Input data files are available in the read-only \"../input/\" directory\n",
    "# For example, running this (by clicking run or pressing Shift+Enter) will list all files under the input directory\n",
    "\n",
    "import os\n",
    "for dirname, _, filenames in os.walk('/kaggle/input'):\n",
    "    for filename in filenames:\n",
    "        print(os.path.join(dirname, filename))\n",
    "\n",
    "# You can write up to 20GB to the current directory (/kaggle/working/) that gets preserved as output when you create a version using \"Save & Run All\" \n",
    "# You can also write temporary files to /kaggle/temp/, but they won't be saved outside of the current session"
   ]
  },
  {
   "cell_type": "code",
   "execution_count": 2,
   "id": "30f4d3a0",
   "metadata": {
    "execution": {
     "iopub.execute_input": "2023-08-22T06:49:05.433549Z",
     "iopub.status.busy": "2023-08-22T06:49:05.433106Z",
     "iopub.status.idle": "2023-08-22T06:49:15.145742Z",
     "shell.execute_reply": "2023-08-22T06:49:15.143872Z"
    },
    "papermill": {
     "duration": 9.728056,
     "end_time": "2023-08-22T06:49:15.148658",
     "exception": false,
     "start_time": "2023-08-22T06:49:05.420602",
     "status": "completed"
    },
    "tags": []
   },
   "outputs": [
    {
     "name": "stdout",
     "output_type": "stream",
     "text": [
      "--2023-08-22 06:49:06--  https://www.dropbox.com/sh/s9r1av3m4eatd3y/AAA8zYti5b5tnyKfcah2Reaja\r\n",
      "Resolving www.dropbox.com (www.dropbox.com)... 162.125.65.18, 2620:100:6021:18::a27d:4112\r\n",
      "Connecting to www.dropbox.com (www.dropbox.com)|162.125.65.18|:443... connected.\r\n",
      "HTTP request sent, awaiting response... 302 Found\r\n",
      "Location: /sh/raw/s9r1av3m4eatd3y/AAA8zYti5b5tnyKfcah2Reaja [following]\r\n",
      "--2023-08-22 06:49:06--  https://www.dropbox.com/sh/raw/s9r1av3m4eatd3y/AAA8zYti5b5tnyKfcah2Reaja\r\n",
      "Reusing existing connection to www.dropbox.com:443.\r\n",
      "HTTP request sent, awaiting response... 302 Found\r\n",
      "Location: https://uc04ecd0eb916b328fdfd8067c55.dl.dropboxusercontent.com/zip_download_get/BlrKQi68yD4vRs-edgeuUsgyaM_VgO3kWLDWoMEjzh3j2kcv7OQ0L-GNB7OfvWjXhoNXwCVVCm31RdSLzEU2mmucPvide6cp2bckNqt7AeUWdg# [following]\r\n",
      "--2023-08-22 06:49:07--  https://uc04ecd0eb916b328fdfd8067c55.dl.dropboxusercontent.com/zip_download_get/BlrKQi68yD4vRs-edgeuUsgyaM_VgO3kWLDWoMEjzh3j2kcv7OQ0L-GNB7OfvWjXhoNXwCVVCm31RdSLzEU2mmucPvide6cp2bckNqt7AeUWdg\r\n",
      "Resolving uc04ecd0eb916b328fdfd8067c55.dl.dropboxusercontent.com (uc04ecd0eb916b328fdfd8067c55.dl.dropboxusercontent.com)... 162.125.65.15, 2620:100:6021:15::a27d:410f\r\n",
      "Connecting to uc04ecd0eb916b328fdfd8067c55.dl.dropboxusercontent.com (uc04ecd0eb916b328fdfd8067c55.dl.dropboxusercontent.com)|162.125.65.15|:443... connected.\r\n",
      "HTTP request sent, awaiting response... 200 OK\r\n",
      "Length: 108475527 (103M) [application/zip]\r\n",
      "Saving to: ‘data’\r\n",
      "\r\n",
      "data                100%[===================>] 103.45M  16.9MB/s    in 6.7s    \r\n",
      "\r\n",
      "2023-08-22 06:49:15 (15.4 MB/s) - ‘data’ saved [108475527/108475527]\r\n",
      "\r\n"
     ]
    }
   ],
   "source": [
    "!wget https://www.dropbox.com/sh/s9r1av3m4eatd3y/AAA8zYti5b5tnyKfcah2Reaja -O data"
   ]
  },
  {
   "cell_type": "code",
   "execution_count": 3,
   "id": "4d9ee2de",
   "metadata": {
    "execution": {
     "iopub.execute_input": "2023-08-22T06:49:15.180564Z",
     "iopub.status.busy": "2023-08-22T06:49:15.180023Z",
     "iopub.status.idle": "2023-08-22T06:49:17.228795Z",
     "shell.execute_reply": "2023-08-22T06:49:17.227211Z"
    },
    "papermill": {
     "duration": 2.0681,
     "end_time": "2023-08-22T06:49:17.231807",
     "exception": false,
     "start_time": "2023-08-22T06:49:15.163707",
     "status": "completed"
    },
    "tags": []
   },
   "outputs": [
    {
     "name": "stdout",
     "output_type": "stream",
     "text": [
      "Archive:  data\r\n",
      "warning:  stripped absolute path spec from /\r\n",
      "mapname:  conversion of  failed\r\n",
      "   creating: images/Test/\r\n",
      "   creating: images/Train/\r\n",
      "   creating: images/Test/Pikachu/\r\n",
      "   creating: images/Train/Pikachu/\r\n",
      "   creating: images/Test/Bulbasaur/\r\n",
      "   creating: images/Train/Bulbasaur/\r\n",
      "   creating: images/Test/Charmander/\r\n",
      "   creating: images/Train/Charmander/\r\n",
      " extracting: images/Train/Pikachu/345.jpg  \r\n",
      " extracting: images/Train/Pikachu/335.jpg  \r\n",
      " extracting: images/Train/Pikachu/299.jpg  \r\n",
      " extracting: images/Train/Pikachu/396.jpg  \r\n",
      " extracting: images/Train/Pikachu/350.jpg  \r\n",
      " extracting: images/Train/Pikachu/308.jpg  \r\n",
      " extracting: images/Train/Pikachu/346.jpg  \r\n",
      " extracting: images/Train/Pikachu/355.jpg  \r\n",
      " extracting: images/Train/Pikachu/353.jpg  \r\n",
      " extracting: images/Train/Pikachu/390.jpg  \r\n",
      " extracting: images/Train/Pikachu/319.jpg  \r\n",
      " extracting: images/Train/Pikachu/386.jpg  \r\n",
      " extracting: images/Train/Pikachu/327.jpg  \r\n",
      " extracting: images/Train/Pikachu/314.jpg  \r\n",
      " extracting: images/Train/Pikachu/303.jpg  \r\n",
      " extracting: images/Train/Pikachu/341.jpg  \r\n",
      " extracting: images/Train/Pikachu/298.jpg  \r\n",
      " extracting: images/Train/Pikachu/389.jpg  \r\n",
      " extracting: images/Train/Pikachu/382.jpg  \r\n",
      " extracting: images/Train/Pikachu/306.jpg  \r\n",
      " extracting: images/Train/Pikachu/361.jpg  \r\n",
      " extracting: images/Train/Pikachu/362.jpg  \r\n",
      " extracting: images/Train/Pikachu/372.jpg  \r\n",
      " extracting: images/Train/Pikachu/312.jpg  \r\n",
      " extracting: images/Train/Pikachu/384.jpg  \r\n",
      " extracting: images/Train/Pikachu/373.jpg  \r\n",
      " extracting: images/Train/Pikachu/352.jpg  \r\n",
      " extracting: images/Train/Pikachu/368.jpg  \r\n",
      " extracting: images/Train/Pikachu/307.jpg  \r\n",
      " extracting: images/Train/Pikachu/343.jpg  \r\n",
      " extracting: images/Train/Pikachu/310.jpg  \r\n",
      " extracting: images/Train/Pikachu/363.jpg  \r\n",
      " extracting: images/Train/Pikachu/320.jpg  \r\n",
      " extracting: images/Train/Pikachu/336.jpg  \r\n",
      " extracting: images/Train/Pikachu/394.jpg  \r\n",
      " extracting: images/Train/Pikachu/380.jpg  \r\n",
      " extracting: images/Train/Pikachu/317.jpg  \r\n",
      " extracting: images/Train/Pikachu/381.jpg  \r\n",
      " extracting: images/Train/Pikachu/322.jpg  \r\n",
      " extracting: images/Train/Pikachu/379.jpg  \r\n",
      " extracting: images/Train/Pikachu/315.jpg  \r\n",
      " extracting: images/Train/Pikachu/369.jpg  \r\n",
      " extracting: images/Train/Pikachu/330.jpg  \r\n",
      " extracting: images/Train/Pikachu/357.jpg  \r\n",
      " extracting: images/Train/Pikachu/383.jpg  \r\n",
      " extracting: images/Train/Pikachu/323.jpg  \r\n",
      " extracting: images/Train/Pikachu/364.jpg  \r\n",
      " extracting: images/Train/Pikachu/296.jpg  \r\n",
      " extracting: images/Train/Pikachu/356.jpg  \r\n",
      " extracting: images/Train/Pikachu/311.jpg  \r\n",
      " extracting: images/Train/Pikachu/385.jpg  \r\n",
      " extracting: images/Train/Pikachu/378.jpg  \r\n",
      " extracting: images/Train/Pikachu/338.jpg  \r\n",
      " extracting: images/Train/Pikachu/318.jpg  \r\n",
      " extracting: images/Train/Pikachu/321.jpg  \r\n",
      " extracting: images/Train/Pikachu/393.jpg  \r\n",
      " extracting: images/Train/Pikachu/304.jpg  \r\n",
      " extracting: images/Train/Pikachu/333.jpg  \r\n",
      " extracting: images/Train/Pikachu/354.jpg  \r\n",
      " extracting: images/Train/Pikachu/339.jpg  \r\n",
      " extracting: images/Train/Pikachu/316.jpg  \r\n",
      " extracting: images/Train/Pikachu/387.jpg  \r\n",
      " extracting: images/Train/Pikachu/334.jpg  \r\n",
      " extracting: images/Train/Pikachu/377.jpg  \r\n",
      " extracting: images/Train/Pikachu/300.jpg  \r\n",
      " extracting: images/Train/Pikachu/297.jpg  \r\n",
      " extracting: images/Train/Pikachu/342.jpg  \r\n",
      " extracting: images/Train/Pikachu/351.jpg  \r\n",
      " extracting: images/Train/Pikachu/365.jpg  \r\n",
      " extracting: images/Train/Pikachu/371.jpg  \r\n",
      " extracting: images/Train/Pikachu/324.jpg  \r\n",
      " extracting: images/Train/Pikachu/313.jpg  \r\n",
      " extracting: images/Train/Pikachu/344.jpg  \r\n",
      " extracting: images/Train/Pikachu/360.jpg  \r\n",
      " extracting: images/Train/Pikachu/340.jpg  \r\n",
      " extracting: images/Train/Pikachu/366.jpg  \r\n",
      " extracting: images/Train/Pikachu/325.jpg  \r\n",
      " extracting: images/Train/Pikachu/332.jpg  \r\n",
      " extracting: images/Train/Pikachu/358.jpg  \r\n",
      " extracting: images/Train/Pikachu/326.jpg  \r\n",
      " extracting: images/Train/Pikachu/375.jpg  \r\n",
      " extracting: images/Train/Pikachu/331.jpg  \r\n",
      " extracting: images/Train/Pikachu/391.jpg  \r\n",
      " extracting: images/Train/Pikachu/302.jpg  \r\n",
      " extracting: images/Train/Pikachu/374.jpg  \r\n",
      " extracting: images/Train/Pikachu/347.jpg  \r\n",
      " extracting: images/Train/Pikachu/370.jpg  \r\n",
      " extracting: images/Train/Pikachu/329.jpg  \r\n",
      " extracting: images/Train/Pikachu/305.jpg  \r\n",
      " extracting: images/Train/Pikachu/337.jpg  \r\n",
      " extracting: images/Train/Pikachu/367.jpg  \r\n",
      " extracting: images/Train/Pikachu/349.jpg  \r\n",
      " extracting: images/Train/Pikachu/395.jpg  \r\n",
      " extracting: images/Train/Pikachu/309.jpg  \r\n",
      " extracting: images/Train/Pikachu/301.jpg  \r\n",
      " extracting: images/Train/Pikachu/359.jpg  \r\n",
      " extracting: images/Train/Pikachu/328.jpg  \r\n",
      " extracting: images/Train/Pikachu/376.jpg  \r\n",
      " extracting: images/Train/Pikachu/392.jpg  \r\n",
      " extracting: images/Train/Pikachu/388.jpg  \r\n",
      " extracting: images/Train/Pikachu/348.jpg  \r\n",
      " extracting: images/Test/Pikachu/2000.jpg  \r\n",
      " extracting: images/Test/Pikachu/2001.jpg  \r\n",
      " extracting: images/Test/Pikachu/2002.jpg  \r\n",
      " extracting: images/Test/Pikachu/2003.jpg  \r\n",
      " extracting: images/Test/Pikachu/2004.jpg  \r\n",
      " extracting: images/Test/Pikachu/2005.jpg  \r\n",
      " extracting: images/Test/Pikachu/2006.jpg  \r\n",
      " extracting: images/Test/Pikachu/2007.jpg  \r\n",
      " extracting: images/Test/Pikachu/2008.jpg  \r\n",
      " extracting: images/Test/Pikachu/2009.jpg  \r\n",
      " extracting: images/Test/Pikachu/2010.jpg  \r\n",
      " extracting: images/Test/Pikachu/2011.jpg  \r\n",
      " extracting: images/Test/Pikachu/2012.jpg  \r\n",
      " extracting: images/Test/Pikachu/2013.jpg  \r\n",
      " extracting: images/Test/Pikachu/2014.jpg  \r\n",
      " extracting: images/Test/Pikachu/2015.jpg  \r\n",
      " extracting: images/Test/Pikachu/2016.jpg  \r\n",
      " extracting: images/Test/Pikachu/2017.jpg  \r\n",
      " extracting: images/Test/Pikachu/2018.jpg  \r\n",
      " extracting: images/Test/Pikachu/2019.jpg  \r\n",
      " extracting: images/Test/Pikachu/2020.jpg  \r\n",
      " extracting: images/Test/Pikachu/2021.jpg  \r\n",
      " extracting: images/Test/Pikachu/2022.jpg  \r\n",
      " extracting: images/Test/Pikachu/2023.jpg  \r\n",
      " extracting: images/Test/Pikachu/2024.jpg  \r\n",
      " extracting: images/Test/Pikachu/2025.jpg  \r\n",
      " extracting: images/Test/Pikachu/2026.jpg  \r\n",
      " extracting: images/Test/Pikachu/2027.jpg  \r\n",
      " extracting: images/Test/Pikachu/2028.jpg  \r\n",
      " extracting: images/Test/Pikachu/2029.jpg  \r\n",
      " extracting: images/Test/Pikachu/2030.jpg  \r\n",
      " extracting: images/Test/Pikachu/2031.jpg  \r\n",
      " extracting: images/Test/Pikachu/2032.jpg  \r\n",
      " extracting: images/Test/Pikachu/2033.jpg  \r\n",
      " extracting: images/Test/Pikachu/2034.jpg  \r\n",
      " extracting: images/Test/Pikachu/2035.jpg  \r\n",
      " extracting: images/Test/Pikachu/2036.jpg  \r\n",
      " extracting: images/Test/Pikachu/2037.jpg  \r\n",
      " extracting: images/Test/Pikachu/2038.jpg  \r\n",
      " extracting: images/Test/Pikachu/2039.jpg  \r\n",
      " extracting: images/Train/Bulbasaur/439.jpg  \r\n",
      " extracting: images/Train/Bulbasaur/474.jpg  \r\n",
      " extracting: images/Train/Bulbasaur/497.jpg  \r\n",
      " extracting: images/Train/Bulbasaur/401.jpg  \r\n",
      " extracting: images/Train/Bulbasaur/403.jpg  \r\n",
      " extracting: images/Train/Bulbasaur/407.jpg  \r\n",
      " extracting: images/Train/Bulbasaur/415.jpg  \r\n",
      " extracting: images/Train/Bulbasaur/429.jpg  \r\n",
      " extracting: images/Train/Bulbasaur/452.jpg  \r\n",
      " extracting: images/Train/Bulbasaur/455.jpg  \r\n",
      " extracting: images/Train/Bulbasaur/456.jpg  \r\n",
      " extracting: images/Train/Bulbasaur/402.jpg  \r\n",
      " extracting: images/Train/Bulbasaur/417.jpg  \r\n",
      " extracting: images/Train/Bulbasaur/433.jpg  \r\n",
      " extracting: images/Train/Bulbasaur/434.jpg  \r\n",
      " extracting: images/Train/Bulbasaur/440.jpg  \r\n",
      " extracting: images/Train/Bulbasaur/405.jpg  \r\n",
      " extracting: images/Train/Bulbasaur/419.jpg  \r\n",
      " extracting: images/Train/Bulbasaur/450.jpg  \r\n",
      " extracting: images/Train/Bulbasaur/471.jpg  \r\n",
      " extracting: images/Train/Bulbasaur/477.jpg  \r\n",
      " extracting: images/Train/Bulbasaur/483.jpg  \r\n",
      " extracting: images/Train/Bulbasaur/421.jpg  \r\n",
      " extracting: images/Train/Bulbasaur/427.jpg  \r\n",
      " extracting: images/Train/Bulbasaur/438.jpg  \r\n",
      " extracting: images/Train/Bulbasaur/470.jpg  \r\n",
      " extracting: images/Train/Bulbasaur/473.jpg  \r\n",
      " extracting: images/Train/Bulbasaur/485.jpg  \r\n",
      " extracting: images/Train/Bulbasaur/399.jpg  \r\n",
      " extracting: images/Train/Bulbasaur/409.jpg  \r\n",
      " extracting: images/Train/Bulbasaur/426.jpg  \r\n",
      " extracting: images/Train/Bulbasaur/460.jpg  \r\n",
      " extracting: images/Train/Bulbasaur/465.jpg  \r\n",
      " extracting: images/Train/Bulbasaur/489.jpg  \r\n",
      " extracting: images/Train/Bulbasaur/491.jpg  \r\n",
      " extracting: images/Train/Bulbasaur/416.jpg  \r\n",
      " extracting: images/Train/Bulbasaur/430.jpg  \r\n",
      " extracting: images/Train/Bulbasaur/432.jpg  \r\n",
      " extracting: images/Train/Bulbasaur/448.jpg  \r\n",
      " extracting: images/Train/Bulbasaur/467.jpg  \r\n",
      " extracting: images/Train/Bulbasaur/458.jpg  \r\n",
      " extracting: images/Train/Bulbasaur/472.jpg  \r\n",
      " extracting: images/Train/Bulbasaur/476.jpg  \r\n",
      " extracting: images/Train/Bulbasaur/398.jpg  \r\n",
      " extracting: images/Train/Bulbasaur/404.jpg  \r\n",
      " extracting: images/Train/Bulbasaur/413.jpg  \r\n",
      " extracting: images/Train/Bulbasaur/451.jpg  \r\n",
      " extracting: images/Train/Bulbasaur/457.jpg  \r\n",
      " extracting: images/Train/Bulbasaur/478.jpg  \r\n",
      " extracting: images/Train/Bulbasaur/400.jpg  \r\n",
      " extracting: images/Train/Bulbasaur/422.jpg  \r\n",
      " extracting: images/Train/Bulbasaur/480.jpg  \r\n",
      " extracting: images/Train/Bulbasaur/418.jpg  \r\n",
      " extracting: images/Train/Bulbasaur/424.jpg  \r\n",
      " extracting: images/Train/Bulbasaur/447.jpg  \r\n",
      " extracting: images/Train/Bulbasaur/449.jpg  \r\n",
      " extracting: images/Train/Bulbasaur/479.jpg  \r\n",
      " extracting: images/Train/Bulbasaur/462.jpg  \r\n",
      " extracting: images/Train/Bulbasaur/487.jpg  \r\n",
      " extracting: images/Train/Bulbasaur/412.jpg  \r\n",
      " extracting: images/Train/Bulbasaur/435.jpg  \r\n",
      " extracting: images/Train/Bulbasaur/436.jpg  \r\n",
      " extracting: images/Train/Bulbasaur/459.jpg  \r\n",
      " extracting: images/Train/Bulbasaur/461.jpg  \r\n",
      " extracting: images/Train/Bulbasaur/492.jpg  \r\n",
      " extracting: images/Train/Bulbasaur/482.jpg  \r\n",
      " extracting: images/Train/Bulbasaur/484.jpg  \r\n",
      " extracting: images/Train/Bulbasaur/486.jpg  \r\n",
      " extracting: images/Train/Bulbasaur/406.jpg  \r\n",
      " extracting: images/Train/Bulbasaur/414.jpg  \r\n",
      " extracting: images/Train/Bulbasaur/431.jpg  \r\n",
      " extracting: images/Train/Bulbasaur/444.jpg  \r\n",
      " extracting: images/Train/Bulbasaur/453.jpg  \r\n",
      " extracting: images/Train/Bulbasaur/493.jpg  \r\n",
      " extracting: images/Train/Bulbasaur/495.jpg  \r\n",
      " extracting: images/Train/Bulbasaur/454.jpg  \r\n",
      " extracting: images/Train/Bulbasaur/469.jpg  \r\n",
      " extracting: images/Train/Bulbasaur/488.jpg  \r\n",
      " extracting: images/Train/Bulbasaur/443.jpg  \r\n",
      " extracting: images/Train/Bulbasaur/468.jpg  \r\n",
      " extracting: images/Train/Bulbasaur/481.jpg  \r\n",
      " extracting: images/Train/Bulbasaur/408.jpg  \r\n",
      " extracting: images/Train/Bulbasaur/423.jpg  \r\n",
      " extracting: images/Train/Bulbasaur/428.jpg  \r\n",
      " extracting: images/Train/Bulbasaur/441.jpg  \r\n",
      " extracting: images/Train/Bulbasaur/442.jpg  \r\n",
      " extracting: images/Train/Bulbasaur/494.jpg  \r\n",
      " extracting: images/Train/Bulbasaur/496.jpg  \r\n",
      " extracting: images/Train/Bulbasaur/464.jpg  \r\n",
      " extracting: images/Train/Bulbasaur/475.jpg  \r\n",
      " extracting: images/Train/Bulbasaur/490.jpg  \r\n",
      " extracting: images/Train/Bulbasaur/410.jpg  \r\n",
      " extracting: images/Train/Bulbasaur/411.jpg  \r\n",
      " extracting: images/Train/Bulbasaur/420.jpg  \r\n",
      " extracting: images/Train/Bulbasaur/425.jpg  \r\n",
      " extracting: images/Train/Bulbasaur/437.jpg  \r\n",
      " extracting: images/Train/Bulbasaur/397.jpg  \r\n",
      " extracting: images/Train/Bulbasaur/445.jpg  \r\n",
      " extracting: images/Train/Bulbasaur/446.jpg  \r\n",
      " extracting: images/Train/Bulbasaur/463.jpg  \r\n",
      " extracting: images/Train/Bulbasaur/466.jpg  \r\n",
      " extracting: images/Test/Bulbasaur/1100.jpg  \r\n",
      " extracting: images/Test/Bulbasaur/1101.jpg  \r\n",
      " extracting: images/Test/Bulbasaur/1102.jpg  \r\n",
      " extracting: images/Test/Bulbasaur/1103.jpg  \r\n",
      " extracting: images/Test/Bulbasaur/1104.jpg  \r\n",
      " extracting: images/Test/Bulbasaur/1105.jpg  \r\n",
      " extracting: images/Test/Bulbasaur/1106.jpg  \r\n",
      " extracting: images/Test/Bulbasaur/1107.jpg  \r\n",
      " extracting: images/Test/Bulbasaur/1108.jpg  \r\n",
      " extracting: images/Test/Bulbasaur/1109.jpg  \r\n",
      " extracting: images/Test/Bulbasaur/1110.jpg  \r\n",
      " extracting: images/Test/Bulbasaur/1111.jpg  \r\n",
      " extracting: images/Test/Bulbasaur/1112.jpg  \r\n",
      " extracting: images/Test/Bulbasaur/1113.jpg  \r\n",
      " extracting: images/Test/Bulbasaur/1114.jpg  \r\n",
      " extracting: images/Test/Bulbasaur/1115.jpg  \r\n",
      " extracting: images/Test/Bulbasaur/1116.jpg  \r\n",
      " extracting: images/Test/Bulbasaur/1117.jpg  \r\n",
      " extracting: images/Test/Bulbasaur/1118.jpg  \r\n",
      " extracting: images/Test/Bulbasaur/1119.jpg  \r\n",
      " extracting: images/Test/Bulbasaur/1120.jpg  \r\n",
      " extracting: images/Test/Bulbasaur/1121.jpg  \r\n",
      " extracting: images/Test/Bulbasaur/1122.jpg  \r\n",
      " extracting: images/Test/Bulbasaur/1123.jpg  \r\n",
      " extracting: images/Test/Bulbasaur/1124.jpg  \r\n",
      " extracting: images/Test/Bulbasaur/1125.jpg  \r\n",
      " extracting: images/Test/Bulbasaur/1126.jpg  \r\n",
      " extracting: images/Test/Bulbasaur/1127.jpg  \r\n",
      " extracting: images/Test/Bulbasaur/1128.jpg  \r\n",
      " extracting: images/Test/Bulbasaur/1129.jpg  \r\n",
      " extracting: images/Test/Bulbasaur/1130.jpg  \r\n",
      " extracting: images/Test/Bulbasaur/1131.jpg  \r\n",
      " extracting: images/Test/Bulbasaur/1132.jpg  \r\n",
      " extracting: images/Test/Bulbasaur/1133.jpg  \r\n",
      " extracting: images/Test/Bulbasaur/1134.jpg  \r\n",
      " extracting: images/Test/Bulbasaur/1135.jpg  \r\n",
      " extracting: images/Test/Bulbasaur/1136.jpg  \r\n",
      " extracting: images/Test/Bulbasaur/1137.jpg  \r\n",
      " extracting: images/Test/Bulbasaur/1138.jpg  \r\n",
      " extracting: images/Test/Bulbasaur/1139.jpg  \r\n",
      " extracting: images/Test/Bulbasaur/1140.jpg  \r\n",
      " extracting: images/Train/Charmander/597.jpg  \r\n",
      " extracting: images/Train/Charmander/610.jpg  \r\n",
      " extracting: images/Train/Charmander/539.jpg  \r\n",
      " extracting: images/Train/Charmander/542.jpg  \r\n",
      " extracting: images/Train/Charmander/557.jpg  \r\n",
      " extracting: images/Train/Charmander/571.jpg  \r\n",
      " extracting: images/Train/Charmander/576.jpg  \r\n",
      " extracting: images/Train/Charmander/592.jpg  \r\n",
      " extracting: images/Train/Charmander/525.jpg  \r\n",
      " extracting: images/Train/Charmander/530.jpg  \r\n",
      " extracting: images/Train/Charmander/543.jpg  \r\n",
      " extracting: images/Train/Charmander/577.jpg  \r\n",
      " extracting: images/Train/Charmander/574.jpg  \r\n",
      " extracting: images/Train/Charmander/580.jpg  \r\n",
      " extracting: images/Train/Charmander/599.jpg  \r\n",
      " extracting: images/Train/Charmander/615.jpg  \r\n",
      " extracting: images/Train/Charmander/523.jpg  \r\n",
      " extracting: images/Train/Charmander/537.jpg  \r\n",
      " extracting: images/Train/Charmander/549.jpg  \r\n",
      " extracting: images/Train/Charmander/550.jpg  \r\n",
      " extracting: images/Train/Charmander/605.jpg  \r\n",
      " extracting: images/Train/Charmander/612.jpg  \r\n",
      " extracting: images/Train/Charmander/520.jpg  \r\n",
      " extracting: images/Train/Charmander/536.jpg  \r\n",
      " extracting: images/Train/Charmander/555.jpg  \r\n",
      " extracting: images/Train/Charmander/586.jpg  \r\n",
      " extracting: images/Train/Charmander/593.jpg  \r\n",
      " extracting: images/Train/Charmander/607.jpg  \r\n",
      " extracting: images/Train/Charmander/613.jpg  \r\n",
      " extracting: images/Train/Charmander/528.jpg  \r\n",
      " extracting: images/Train/Charmander/548.jpg  \r\n",
      " extracting: images/Train/Charmander/552.jpg  \r\n",
      " extracting: images/Train/Charmander/565.jpg  \r\n",
      " extracting: images/Train/Charmander/582.jpg  \r\n",
      " extracting: images/Train/Charmander/611.jpg  \r\n",
      " extracting: images/Train/Charmander/521.jpg  \r\n",
      " extracting: images/Train/Charmander/562.jpg  \r\n",
      " extracting: images/Train/Charmander/563.jpg  \r\n",
      " extracting: images/Train/Charmander/589.jpg  \r\n",
      " extracting: images/Train/Charmander/590.jpg  \r\n",
      " extracting: images/Train/Charmander/614.jpg  \r\n",
      " extracting: images/Train/Charmander/581.jpg  \r\n",
      " extracting: images/Train/Charmander/601.jpg  \r\n",
      " extracting: images/Train/Charmander/527.jpg  \r\n",
      " extracting: images/Train/Charmander/533.jpg  \r\n",
      " extracting: images/Train/Charmander/547.jpg  \r\n",
      " extracting: images/Train/Charmander/551.jpg  \r\n",
      " extracting: images/Train/Charmander/554.jpg  \r\n",
      " extracting: images/Train/Charmander/559.jpg  \r\n",
      " extracting: images/Train/Charmander/608.jpg  \r\n",
      " extracting: images/Train/Charmander/617.jpg  \r\n",
      " extracting: images/Train/Charmander/619.jpg  \r\n",
      " extracting: images/Train/Charmander/604.jpg  \r\n",
      " extracting: images/Train/Charmander/498.jpg  \r\n",
      " extracting: images/Train/Charmander/526.jpg  \r\n",
      " extracting: images/Train/Charmander/546.jpg  \r\n",
      " extracting: images/Train/Charmander/585.jpg  \r\n",
      " extracting: images/Train/Charmander/587.jpg  \r\n",
      " extracting: images/Train/Charmander/600.jpg  \r\n",
      " extracting: images/Train/Charmander/545.jpg  \r\n",
      " extracting: images/Train/Charmander/560.jpg  \r\n",
      " extracting: images/Train/Charmander/620.jpg  \r\n",
      " extracting: images/Train/Charmander/531.jpg  \r\n",
      " extracting: images/Train/Charmander/541.jpg  \r\n",
      " extracting: images/Train/Charmander/572.jpg  \r\n",
      " extracting: images/Train/Charmander/578.jpg  \r\n",
      " extracting: images/Train/Charmander/595.jpg  \r\n",
      " extracting: images/Train/Charmander/522.jpg  \r\n",
      " extracting: images/Train/Charmander/544.jpg  \r\n",
      " extracting: images/Train/Charmander/596.jpg  \r\n",
      " extracting: images/Train/Charmander/602.jpg  \r\n",
      " extracting: images/Train/Charmander/573.jpg  \r\n",
      " extracting: images/Train/Charmander/583.jpg  \r\n",
      " extracting: images/Train/Charmander/538.jpg  \r\n",
      " extracting: images/Train/Charmander/553.jpg  \r\n",
      " extracting: images/Train/Charmander/556.jpg  \r\n",
      " extracting: images/Train/Charmander/564.jpg  \r\n",
      " extracting: images/Train/Charmander/566.jpg  \r\n",
      " extracting: images/Train/Charmander/569.jpg  \r\n",
      " extracting: images/Train/Charmander/594.jpg  \r\n",
      " extracting: images/Train/Charmander/609.jpg  \r\n",
      " extracting: images/Train/Charmander/616.jpg  \r\n",
      " extracting: images/Train/Charmander/558.jpg  \r\n",
      " extracting: images/Train/Charmander/584.jpg  \r\n",
      " extracting: images/Train/Charmander/598.jpg  \r\n",
      " extracting: images/Train/Charmander/570.jpg  \r\n",
      " extracting: images/Train/Charmander/579.jpg  \r\n",
      " extracting: images/Train/Charmander/529.jpg  \r\n",
      " extracting: images/Train/Charmander/532.jpg  \r\n",
      " extracting: images/Train/Charmander/534.jpg  \r\n",
      " extracting: images/Train/Charmander/535.jpg  \r\n",
      " extracting: images/Train/Charmander/567.jpg  \r\n",
      " extracting: images/Train/Charmander/568.jpg  \r\n",
      " extracting: images/Train/Charmander/603.jpg  \r\n",
      " extracting: images/Train/Charmander/606.jpg  \r\n",
      " extracting: images/Train/Charmander/618.jpg  \r\n",
      " extracting: images/Train/Charmander/524.jpg  \r\n",
      " extracting: images/Train/Charmander/540.jpg  \r\n",
      " extracting: images/Train/Charmander/561.jpg  \r\n",
      " extracting: images/Train/Charmander/575.jpg  \r\n",
      " extracting: images/Train/Charmander/588.jpg  \r\n",
      " extracting: images/Train/Charmander/591.jpg  \r\n",
      " extracting: images/Test/Charmander/2040.jpg  \r\n",
      " extracting: images/Test/Charmander/2200.jpg  \r\n",
      " extracting: images/Test/Charmander/2201.jpg  \r\n",
      " extracting: images/Test/Charmander/2202.jpg  \r\n",
      " extracting: images/Test/Charmander/2203.jpg  \r\n",
      " extracting: images/Test/Charmander/2204.jpg  \r\n",
      " extracting: images/Test/Charmander/2205.jpg  \r\n",
      " extracting: images/Test/Charmander/2206.jpg  \r\n",
      " extracting: images/Test/Charmander/2207.jpg  \r\n",
      " extracting: images/Test/Charmander/2208.jpg  \r\n",
      " extracting: images/Test/Charmander/2209.jpg  \r\n",
      " extracting: images/Test/Charmander/2210.jpg  \r\n",
      " extracting: images/Test/Charmander/2211.jpg  \r\n",
      " extracting: images/Test/Charmander/2212.jpg  \r\n",
      " extracting: images/Test/Charmander/2213.jpg  \r\n",
      " extracting: images/Test/Charmander/2214.jpg  \r\n",
      " extracting: images/Test/Charmander/2215.jpg  \r\n",
      " extracting: images/Test/Charmander/2216.jpg  \r\n",
      " extracting: images/Test/Charmander/2217.jpg  \r\n",
      " extracting: images/Test/Charmander/2218.jpg  \r\n",
      " extracting: images/Test/Charmander/2219.jpg  \r\n",
      " extracting: images/Test/Charmander/2220.jpg  \r\n",
      " extracting: images/Test/Charmander/2221.jpg  \r\n",
      " extracting: images/Test/Charmander/2222.jpg  \r\n",
      " extracting: images/Test/Charmander/2223.jpg  \r\n",
      " extracting: images/Test/Charmander/2224.jpg  \r\n",
      " extracting: images/Test/Charmander/2225.jpg  \r\n",
      " extracting: images/Test/Charmander/2226.jpg  \r\n",
      " extracting: images/Test/Charmander/2227.jpg  \r\n",
      " extracting: images/Test/Charmander/2228.jpg  \r\n",
      " extracting: images/Test/Charmander/2229.jpg  \r\n",
      " extracting: images/Test/Charmander/2230.jpg  \r\n",
      " extracting: images/Test/Charmander/2231.jpg  \r\n",
      " extracting: images/Test/Charmander/2232.jpg  \r\n",
      " extracting: images/Test/Charmander/2233.jpg  \r\n",
      " extracting: images/Test/Charmander/2234.jpg  \r\n",
      " extracting: images/Test/Charmander/2235.jpg  \r\n",
      " extracting: images/Test/Charmander/2236.jpg  \r\n",
      " extracting: images/Test/Charmander/2237.jpg  \r\n",
      " extracting: images/Test/Charmander/2238.jpg  \r\n",
      " extracting: images/Test/Charmander/2239.jpg  \r\n",
      " extracting: images/Test/Charmander/2240.jpg  \r\n"
     ]
    }
   ],
   "source": [
    "!unzip data -d \"images/\""
   ]
  },
  {
   "cell_type": "code",
   "execution_count": 4,
   "id": "ae924e6b",
   "metadata": {
    "execution": {
     "iopub.execute_input": "2023-08-22T06:49:17.269551Z",
     "iopub.status.busy": "2023-08-22T06:49:17.268509Z",
     "iopub.status.idle": "2023-08-22T06:49:17.274913Z",
     "shell.execute_reply": "2023-08-22T06:49:17.273625Z"
    },
    "papermill": {
     "duration": 0.02702,
     "end_time": "2023-08-22T06:49:17.277277",
     "exception": false,
     "start_time": "2023-08-22T06:49:17.250257",
     "status": "completed"
    },
    "tags": []
   },
   "outputs": [],
   "source": [
    "import numpy as np\n",
    "import pandas as pd\n",
    "import matplotlib.pyplot as plt\n",
    "import os"
   ]
  },
  {
   "cell_type": "code",
   "execution_count": 5,
   "id": "3187c948",
   "metadata": {
    "execution": {
     "iopub.execute_input": "2023-08-22T06:49:17.315481Z",
     "iopub.status.busy": "2023-08-22T06:49:17.314341Z",
     "iopub.status.idle": "2023-08-22T06:49:17.325085Z",
     "shell.execute_reply": "2023-08-22T06:49:17.323684Z"
    },
    "papermill": {
     "duration": 0.03123,
     "end_time": "2023-08-22T06:49:17.327571",
     "exception": false,
     "start_time": "2023-08-22T06:49:17.296341",
     "status": "completed"
    },
    "tags": []
   },
   "outputs": [
    {
     "data": {
      "text/plain": [
       "['Bulbasaur', 'Pikachu', 'Charmander']"
      ]
     },
     "execution_count": 5,
     "metadata": {},
     "output_type": "execute_result"
    }
   ],
   "source": [
    "classes = os.listdir(\"images/Train\")\n",
    "classes"
   ]
  },
  {
   "cell_type": "code",
   "execution_count": 6,
   "id": "ccc96bf5",
   "metadata": {
    "execution": {
     "iopub.execute_input": "2023-08-22T06:49:17.363484Z",
     "iopub.status.busy": "2023-08-22T06:49:17.362770Z",
     "iopub.status.idle": "2023-08-22T06:49:17.367803Z",
     "shell.execute_reply": "2023-08-22T06:49:17.366957Z"
    },
    "papermill": {
     "duration": 0.025413,
     "end_time": "2023-08-22T06:49:17.370063",
     "exception": false,
     "start_time": "2023-08-22T06:49:17.344650",
     "status": "completed"
    },
    "tags": []
   },
   "outputs": [],
   "source": [
    "def print_number_of_files(p):\n",
    "    for c in classes:\n",
    "        path=str(p)+\"/\"+c\n",
    "        print(c,len(os.listdir(path)))"
   ]
  },
  {
   "cell_type": "code",
   "execution_count": 7,
   "id": "5bb0ebed",
   "metadata": {
    "execution": {
     "iopub.execute_input": "2023-08-22T06:49:17.405454Z",
     "iopub.status.busy": "2023-08-22T06:49:17.404737Z",
     "iopub.status.idle": "2023-08-22T06:49:17.410440Z",
     "shell.execute_reply": "2023-08-22T06:49:17.409363Z"
    },
    "papermill": {
     "duration": 0.02567,
     "end_time": "2023-08-22T06:49:17.412529",
     "exception": false,
     "start_time": "2023-08-22T06:49:17.386859",
     "status": "completed"
    },
    "tags": []
   },
   "outputs": [
    {
     "name": "stdout",
     "output_type": "stream",
     "text": [
      "training data\n",
      "Bulbasaur 101\n",
      "Pikachu 101\n",
      "Charmander 102\n"
     ]
    }
   ],
   "source": [
    "print(\"training data\")\n",
    "print_number_of_files(\"images/Train/\")"
   ]
  },
  {
   "cell_type": "code",
   "execution_count": 8,
   "id": "2e8d7004",
   "metadata": {
    "execution": {
     "iopub.execute_input": "2023-08-22T06:49:17.447046Z",
     "iopub.status.busy": "2023-08-22T06:49:17.446614Z",
     "iopub.status.idle": "2023-08-22T06:49:17.452874Z",
     "shell.execute_reply": "2023-08-22T06:49:17.451759Z"
    },
    "papermill": {
     "duration": 0.026482,
     "end_time": "2023-08-22T06:49:17.455267",
     "exception": false,
     "start_time": "2023-08-22T06:49:17.428785",
     "status": "completed"
    },
    "tags": []
   },
   "outputs": [
    {
     "name": "stdout",
     "output_type": "stream",
     "text": [
      "test data\n",
      "Bulbasaur 41\n",
      "Pikachu 40\n",
      "Charmander 42\n"
     ]
    }
   ],
   "source": [
    "print(\"test data\")\n",
    "print_number_of_files(\"images/Test/\")"
   ]
  },
  {
   "cell_type": "code",
   "execution_count": 9,
   "id": "a47a5b4f",
   "metadata": {
    "execution": {
     "iopub.execute_input": "2023-08-22T06:49:17.490677Z",
     "iopub.status.busy": "2023-08-22T06:49:17.489965Z",
     "iopub.status.idle": "2023-08-22T06:49:32.510561Z",
     "shell.execute_reply": "2023-08-22T06:49:32.509124Z"
    },
    "papermill": {
     "duration": 15.041503,
     "end_time": "2023-08-22T06:49:32.513376",
     "exception": false,
     "start_time": "2023-08-22T06:49:17.471873",
     "status": "completed"
    },
    "tags": []
   },
   "outputs": [
    {
     "name": "stdout",
     "output_type": "stream",
     "text": [
      "Collecting keras_preprocessing\r\n",
      "  Downloading Keras_Preprocessing-1.1.2-py2.py3-none-any.whl (42 kB)\r\n",
      "\u001b[2K     \u001b[90m━━━━━━━━━━━━━━━━━━━━━━━━━━━━━━━━━━━━━━━━\u001b[0m \u001b[32m42.6/42.6 kB\u001b[0m \u001b[31m2.6 MB/s\u001b[0m eta \u001b[36m0:00:00\u001b[0m\r\n",
      "\u001b[?25hRequirement already satisfied: numpy>=1.9.1 in /opt/conda/lib/python3.10/site-packages (from keras_preprocessing) (1.23.5)\r\n",
      "Requirement already satisfied: six>=1.9.0 in /opt/conda/lib/python3.10/site-packages (from keras_preprocessing) (1.16.0)\r\n",
      "Installing collected packages: keras_preprocessing\r\n",
      "Successfully installed keras_preprocessing-1.1.2\r\n",
      "Note: you may need to restart the kernel to use updated packages.\n"
     ]
    }
   ],
   "source": [
    "pip install keras_preprocessing"
   ]
  },
  {
   "cell_type": "code",
   "execution_count": 10,
   "id": "fa7ab418",
   "metadata": {
    "execution": {
     "iopub.execute_input": "2023-08-22T06:49:32.550157Z",
     "iopub.status.busy": "2023-08-22T06:49:32.549676Z",
     "iopub.status.idle": "2023-08-22T06:49:32.867105Z",
     "shell.execute_reply": "2023-08-22T06:49:32.866174Z"
    },
    "papermill": {
     "duration": 0.339268,
     "end_time": "2023-08-22T06:49:32.869936",
     "exception": false,
     "start_time": "2023-08-22T06:49:32.530668",
     "status": "completed"
    },
    "tags": []
   },
   "outputs": [
    {
     "name": "stderr",
     "output_type": "stream",
     "text": [
      "/opt/conda/lib/python3.10/site-packages/scipy/__init__.py:146: UserWarning: A NumPy version >=1.16.5 and <1.23.0 is required for this version of SciPy (detected version 1.23.5\n",
      "  warnings.warn(f\"A NumPy version >={np_minversion} and <{np_maxversion}\"\n"
     ]
    }
   ],
   "source": [
    "from keras_preprocessing import image"
   ]
  },
  {
   "cell_type": "code",
   "execution_count": 11,
   "id": "79df6c97",
   "metadata": {
    "execution": {
     "iopub.execute_input": "2023-08-22T06:49:32.906961Z",
     "iopub.status.busy": "2023-08-22T06:49:32.906257Z",
     "iopub.status.idle": "2023-08-22T06:49:32.913399Z",
     "shell.execute_reply": "2023-08-22T06:49:32.912602Z"
    },
    "papermill": {
     "duration": 0.028267,
     "end_time": "2023-08-22T06:49:32.915659",
     "exception": false,
     "start_time": "2023-08-22T06:49:32.887392",
     "status": "completed"
    },
    "tags": []
   },
   "outputs": [],
   "source": [
    "def get_data_from_file(p):\n",
    "    train_data=[] #X\n",
    "    train_lables=[] #Y\n",
    "    for c in classes:\n",
    "        path=str(p)+\"/\"+c\n",
    "        for img_name in os.listdir(path):\n",
    "            img_path=path+\"/\"+img_name\n",
    "            img=image.load_img(img_path,target_size=(100,100))\n",
    "            img=image.img_to_array(img)\n",
    "            train_data.append(img)\n",
    "            train_lables.append(c)\n",
    "\n",
    "    return train_data,train_lables\n"
   ]
  },
  {
   "cell_type": "code",
   "execution_count": 12,
   "id": "a6a4315c",
   "metadata": {
    "execution": {
     "iopub.execute_input": "2023-08-22T06:49:32.952507Z",
     "iopub.status.busy": "2023-08-22T06:49:32.951809Z",
     "iopub.status.idle": "2023-08-22T06:49:41.106689Z",
     "shell.execute_reply": "2023-08-22T06:49:41.105512Z"
    },
    "papermill": {
     "duration": 8.176684,
     "end_time": "2023-08-22T06:49:41.109650",
     "exception": false,
     "start_time": "2023-08-22T06:49:32.932966",
     "status": "completed"
    },
    "tags": []
   },
   "outputs": [
    {
     "name": "stderr",
     "output_type": "stream",
     "text": [
      "/opt/conda/lib/python3.10/site-packages/PIL/Image.py:992: UserWarning: Palette images with Transparency expressed in bytes should be converted to RGBA images\n",
      "  warnings.warn(\n"
     ]
    }
   ],
   "source": [
    "train_data,train_lables=get_data_from_file(\"images/Train\")"
   ]
  },
  {
   "cell_type": "code",
   "execution_count": 13,
   "id": "623bc377",
   "metadata": {
    "execution": {
     "iopub.execute_input": "2023-08-22T06:49:41.146847Z",
     "iopub.status.busy": "2023-08-22T06:49:41.146133Z",
     "iopub.status.idle": "2023-08-22T06:49:41.151454Z",
     "shell.execute_reply": "2023-08-22T06:49:41.150557Z"
    },
    "papermill": {
     "duration": 0.02727,
     "end_time": "2023-08-22T06:49:41.154450",
     "exception": false,
     "start_time": "2023-08-22T06:49:41.127180",
     "status": "completed"
    },
    "tags": []
   },
   "outputs": [
    {
     "name": "stdout",
     "output_type": "stream",
     "text": [
      "304 304\n"
     ]
    }
   ],
   "source": [
    "print(len(train_data),len(train_lables))"
   ]
  },
  {
   "cell_type": "code",
   "execution_count": 14,
   "id": "af758545",
   "metadata": {
    "execution": {
     "iopub.execute_input": "2023-08-22T06:49:41.192391Z",
     "iopub.status.busy": "2023-08-22T06:49:41.191971Z",
     "iopub.status.idle": "2023-08-22T06:49:41.215201Z",
     "shell.execute_reply": "2023-08-22T06:49:41.213909Z"
    },
    "papermill": {
     "duration": 0.045424,
     "end_time": "2023-08-22T06:49:41.217550",
     "exception": false,
     "start_time": "2023-08-22T06:49:41.172126",
     "status": "completed"
    },
    "tags": []
   },
   "outputs": [
    {
     "data": {
      "text/plain": [
       "(304, 100, 100, 3)"
      ]
     },
     "execution_count": 14,
     "metadata": {},
     "output_type": "execute_result"
    }
   ],
   "source": [
    "train_data=np.array(train_data)\n",
    "train_data.shape"
   ]
  },
  {
   "cell_type": "code",
   "execution_count": 15,
   "id": "f3a43cf2",
   "metadata": {
    "execution": {
     "iopub.execute_input": "2023-08-22T06:49:41.255869Z",
     "iopub.status.busy": "2023-08-22T06:49:41.254455Z",
     "iopub.status.idle": "2023-08-22T06:49:41.278584Z",
     "shell.execute_reply": "2023-08-22T06:49:41.277187Z"
    },
    "papermill": {
     "duration": 0.046751,
     "end_time": "2023-08-22T06:49:41.281991",
     "exception": false,
     "start_time": "2023-08-22T06:49:41.235240",
     "status": "completed"
    },
    "tags": []
   },
   "outputs": [],
   "source": [
    "train_data=np.array(train_data)\n",
    "train_lables=np.array(train_lables)"
   ]
  },
  {
   "cell_type": "code",
   "execution_count": 16,
   "id": "7aae2266",
   "metadata": {
    "execution": {
     "iopub.execute_input": "2023-08-22T06:49:41.332259Z",
     "iopub.status.busy": "2023-08-22T06:49:41.331265Z",
     "iopub.status.idle": "2023-08-22T06:49:41.339346Z",
     "shell.execute_reply": "2023-08-22T06:49:41.338292Z"
    },
    "papermill": {
     "duration": 0.034665,
     "end_time": "2023-08-22T06:49:41.341647",
     "exception": false,
     "start_time": "2023-08-22T06:49:41.306982",
     "status": "completed"
    },
    "tags": []
   },
   "outputs": [
    {
     "data": {
      "text/plain": [
       "(304, 30000)"
      ]
     },
     "execution_count": 16,
     "metadata": {},
     "output_type": "execute_result"
    }
   ],
   "source": [
    "train_data=train_data.reshape(len(train_data),-1)\n",
    "train_data.shape"
   ]
  },
  {
   "cell_type": "code",
   "execution_count": 17,
   "id": "55a0a56b",
   "metadata": {
    "execution": {
     "iopub.execute_input": "2023-08-22T06:49:41.388490Z",
     "iopub.status.busy": "2023-08-22T06:49:41.387494Z",
     "iopub.status.idle": "2023-08-22T06:49:41.393750Z",
     "shell.execute_reply": "2023-08-22T06:49:41.392633Z"
    },
    "papermill": {
     "duration": 0.034556,
     "end_time": "2023-08-22T06:49:41.396233",
     "exception": false,
     "start_time": "2023-08-22T06:49:41.361677",
     "status": "completed"
    },
    "tags": []
   },
   "outputs": [],
   "source": [
    "category2label = {'Pikachu':0, 'Charmander':1, 'Bulbasaur':2}\n",
    "label2category = {0: 'Pikachu', 1: 'Charmander', 2:'Bulbasaur'}"
   ]
  },
  {
   "cell_type": "code",
   "execution_count": 18,
   "id": "0e23a9fd",
   "metadata": {
    "execution": {
     "iopub.execute_input": "2023-08-22T06:49:41.437621Z",
     "iopub.status.busy": "2023-08-22T06:49:41.436726Z",
     "iopub.status.idle": "2023-08-22T06:49:41.443438Z",
     "shell.execute_reply": "2023-08-22T06:49:41.442304Z"
    },
    "papermill": {
     "duration": 0.030923,
     "end_time": "2023-08-22T06:49:41.445875",
     "exception": false,
     "start_time": "2023-08-22T06:49:41.414952",
     "status": "completed"
    },
    "tags": []
   },
   "outputs": [],
   "source": [
    "train_lables = np.array([category2label[label] for label in train_lables])"
   ]
  },
  {
   "cell_type": "code",
   "execution_count": 19,
   "id": "c134366e",
   "metadata": {
    "execution": {
     "iopub.execute_input": "2023-08-22T06:49:41.487475Z",
     "iopub.status.busy": "2023-08-22T06:49:41.486576Z",
     "iopub.status.idle": "2023-08-22T06:49:41.494989Z",
     "shell.execute_reply": "2023-08-22T06:49:41.493832Z"
    },
    "papermill": {
     "duration": 0.032418,
     "end_time": "2023-08-22T06:49:41.497144",
     "exception": false,
     "start_time": "2023-08-22T06:49:41.464726",
     "status": "completed"
    },
    "tags": []
   },
   "outputs": [
    {
     "data": {
      "text/plain": [
       "(304,)"
      ]
     },
     "execution_count": 19,
     "metadata": {},
     "output_type": "execute_result"
    }
   ],
   "source": [
    "train_lables.shape"
   ]
  },
  {
   "cell_type": "code",
   "execution_count": 20,
   "id": "228dcce0",
   "metadata": {
    "execution": {
     "iopub.execute_input": "2023-08-22T06:49:41.535764Z",
     "iopub.status.busy": "2023-08-22T06:49:41.534836Z",
     "iopub.status.idle": "2023-08-22T06:49:50.495387Z",
     "shell.execute_reply": "2023-08-22T06:49:50.494305Z"
    },
    "papermill": {
     "duration": 8.982849,
     "end_time": "2023-08-22T06:49:50.497963",
     "exception": false,
     "start_time": "2023-08-22T06:49:41.515114",
     "status": "completed"
    },
    "tags": []
   },
   "outputs": [
    {
     "name": "stderr",
     "output_type": "stream",
     "text": [
      "/opt/conda/lib/python3.10/site-packages/tensorflow_io/python/ops/__init__.py:98: UserWarning: unable to load libtensorflow_io_plugins.so: unable to open file: libtensorflow_io_plugins.so, from paths: ['/opt/conda/lib/python3.10/site-packages/tensorflow_io/python/ops/libtensorflow_io_plugins.so']\n",
      "caused by: ['/opt/conda/lib/python3.10/site-packages/tensorflow_io/python/ops/libtensorflow_io_plugins.so: undefined symbol: _ZN3tsl6StatusC1EN10tensorflow5error4CodeESt17basic_string_viewIcSt11char_traitsIcEENS_14SourceLocationE']\n",
      "  warnings.warn(f\"unable to load libtensorflow_io_plugins.so: {e}\")\n",
      "/opt/conda/lib/python3.10/site-packages/tensorflow_io/python/ops/__init__.py:104: UserWarning: file system plugins are not loaded: unable to open file: libtensorflow_io.so, from paths: ['/opt/conda/lib/python3.10/site-packages/tensorflow_io/python/ops/libtensorflow_io.so']\n",
      "caused by: ['/opt/conda/lib/python3.10/site-packages/tensorflow_io/python/ops/libtensorflow_io.so: undefined symbol: _ZTVN10tensorflow13GcsFileSystemE']\n",
      "  warnings.warn(f\"file system plugins are not loaded: {e}\")\n"
     ]
    }
   ],
   "source": [
    "from keras.utils import to_categorical"
   ]
  },
  {
   "cell_type": "code",
   "execution_count": 21,
   "id": "d281c406",
   "metadata": {
    "execution": {
     "iopub.execute_input": "2023-08-22T06:49:50.537710Z",
     "iopub.status.busy": "2023-08-22T06:49:50.536058Z",
     "iopub.status.idle": "2023-08-22T06:49:50.544154Z",
     "shell.execute_reply": "2023-08-22T06:49:50.543089Z"
    },
    "papermill": {
     "duration": 0.030044,
     "end_time": "2023-08-22T06:49:50.546780",
     "exception": false,
     "start_time": "2023-08-22T06:49:50.516736",
     "status": "completed"
    },
    "tags": []
   },
   "outputs": [],
   "source": [
    "train_lables=to_categorical(train_lables)\n",
    "# train_lables"
   ]
  },
  {
   "cell_type": "code",
   "execution_count": 22,
   "id": "33b6957c",
   "metadata": {
    "execution": {
     "iopub.execute_input": "2023-08-22T06:49:50.585077Z",
     "iopub.status.busy": "2023-08-22T06:49:50.584663Z",
     "iopub.status.idle": "2023-08-22T06:49:50.589919Z",
     "shell.execute_reply": "2023-08-22T06:49:50.588695Z"
    },
    "papermill": {
     "duration": 0.027371,
     "end_time": "2023-08-22T06:49:50.592341",
     "exception": false,
     "start_time": "2023-08-22T06:49:50.564970",
     "status": "completed"
    },
    "tags": []
   },
   "outputs": [],
   "source": [
    "from keras.layers import Dense\n",
    "from keras import Sequential\n",
    "     "
   ]
  },
  {
   "cell_type": "code",
   "execution_count": 23,
   "id": "6cc0ba59",
   "metadata": {
    "execution": {
     "iopub.execute_input": "2023-08-22T06:49:50.630609Z",
     "iopub.status.busy": "2023-08-22T06:49:50.630180Z",
     "iopub.status.idle": "2023-08-22T06:49:50.636574Z",
     "shell.execute_reply": "2023-08-22T06:49:50.635612Z"
    },
    "papermill": {
     "duration": 0.028277,
     "end_time": "2023-08-22T06:49:50.638724",
     "exception": false,
     "start_time": "2023-08-22T06:49:50.610447",
     "status": "completed"
    },
    "tags": []
   },
   "outputs": [
    {
     "data": {
      "text/plain": [
       "30000"
      ]
     },
     "execution_count": 23,
     "metadata": {},
     "output_type": "execute_result"
    }
   ],
   "source": [
    "features = train_data.shape[1]\n",
    "features"
   ]
  },
  {
   "cell_type": "code",
   "execution_count": 24,
   "id": "1bdc1234",
   "metadata": {
    "execution": {
     "iopub.execute_input": "2023-08-22T06:49:50.677678Z",
     "iopub.status.busy": "2023-08-22T06:49:50.676953Z",
     "iopub.status.idle": "2023-08-22T06:49:51.072869Z",
     "shell.execute_reply": "2023-08-22T06:49:51.071683Z"
    },
    "papermill": {
     "duration": 0.418829,
     "end_time": "2023-08-22T06:49:51.075661",
     "exception": false,
     "start_time": "2023-08-22T06:49:50.656832",
     "status": "completed"
    },
    "tags": []
   },
   "outputs": [],
   "source": [
    "model = Sequential()\n",
    "model.add( Dense(units=512, activation='relu', input_shape=(features,)) )\n",
    "model.add( Dense(units=256, activation='relu' ) )\n",
    "model.add( Dense(units=128, activation='relu' ) )\n",
    "model.add( Dense(units=64, activation='relu' ) )\n",
    "model.add( Dense(units=3, activation='softmax' ) )\n",
    "\n",
    "model.compile(optimizer = \"adam\", loss=\"categorical_crossentropy\", metrics=['accuracy'] )"
   ]
  },
  {
   "cell_type": "code",
   "execution_count": 25,
   "id": "09c14686",
   "metadata": {
    "execution": {
     "iopub.execute_input": "2023-08-22T06:49:51.114940Z",
     "iopub.status.busy": "2023-08-22T06:49:51.113544Z",
     "iopub.status.idle": "2023-08-22T06:49:51.140756Z",
     "shell.execute_reply": "2023-08-22T06:49:51.139918Z"
    },
    "papermill": {
     "duration": 0.052481,
     "end_time": "2023-08-22T06:49:51.146253",
     "exception": false,
     "start_time": "2023-08-22T06:49:51.093772",
     "status": "completed"
    },
    "tags": []
   },
   "outputs": [
    {
     "name": "stdout",
     "output_type": "stream",
     "text": [
      "Model: \"sequential\"\n",
      "_________________________________________________________________\n",
      " Layer (type)                Output Shape              Param #   \n",
      "=================================================================\n",
      " dense (Dense)               (None, 512)               15360512  \n",
      "                                                                 \n",
      " dense_1 (Dense)             (None, 256)               131328    \n",
      "                                                                 \n",
      " dense_2 (Dense)             (None, 128)               32896     \n",
      "                                                                 \n",
      " dense_3 (Dense)             (None, 64)                8256      \n",
      "                                                                 \n",
      " dense_4 (Dense)             (None, 3)                 195       \n",
      "                                                                 \n",
      "=================================================================\n",
      "Total params: 15,533,187\n",
      "Trainable params: 15,533,187\n",
      "Non-trainable params: 0\n",
      "_________________________________________________________________\n"
     ]
    }
   ],
   "source": [
    "model.summary()"
   ]
  },
  {
   "cell_type": "code",
   "execution_count": 26,
   "id": "0a3cd2cc",
   "metadata": {
    "execution": {
     "iopub.execute_input": "2023-08-22T06:49:51.188225Z",
     "iopub.status.busy": "2023-08-22T06:49:51.187800Z",
     "iopub.status.idle": "2023-08-22T06:52:14.779252Z",
     "shell.execute_reply": "2023-08-22T06:52:14.777859Z"
    },
    "papermill": {
     "duration": 143.689919,
     "end_time": "2023-08-22T06:52:14.856014",
     "exception": false,
     "start_time": "2023-08-22T06:49:51.166095",
     "status": "completed"
    },
    "tags": []
   },
   "outputs": [
    {
     "name": "stdout",
     "output_type": "stream",
     "text": [
      "Epoch 1/50\n",
      "10/10 [==============================] - 3s 177ms/step - loss: 2427.5020 - accuracy: 0.3191\n",
      "Epoch 2/50\n",
      "10/10 [==============================] - 2s 172ms/step - loss: 1693.9274 - accuracy: 0.3618\n",
      "Epoch 3/50\n",
      "10/10 [==============================] - 2s 176ms/step - loss: 1317.7563 - accuracy: 0.4079\n",
      "Epoch 4/50\n",
      "10/10 [==============================] - 2s 175ms/step - loss: 536.4209 - accuracy: 0.4671\n",
      "Epoch 5/50\n",
      "10/10 [==============================] - 2s 176ms/step - loss: 450.1303 - accuracy: 0.5559\n",
      "Epoch 6/50\n",
      "10/10 [==============================] - 2s 182ms/step - loss: 185.2180 - accuracy: 0.6875\n",
      "Epoch 7/50\n",
      "10/10 [==============================] - 2s 174ms/step - loss: 29.2833 - accuracy: 0.8586\n",
      "Epoch 8/50\n",
      "10/10 [==============================] - 2s 174ms/step - loss: 19.3660 - accuracy: 0.8816\n",
      "Epoch 9/50\n",
      "10/10 [==============================] - 2s 174ms/step - loss: 27.1735 - accuracy: 0.8651\n",
      "Epoch 10/50\n",
      "10/10 [==============================] - 2s 173ms/step - loss: 65.5275 - accuracy: 0.8257\n",
      "Epoch 11/50\n",
      "10/10 [==============================] - 2s 173ms/step - loss: 46.4080 - accuracy: 0.8684\n",
      "Epoch 12/50\n",
      "10/10 [==============================] - 2s 211ms/step - loss: 25.0642 - accuracy: 0.8651\n",
      "Epoch 13/50\n",
      "10/10 [==============================] - 2s 176ms/step - loss: 12.2043 - accuracy: 0.9408\n",
      "Epoch 14/50\n",
      "10/10 [==============================] - 2s 174ms/step - loss: 34.9518 - accuracy: 0.8651\n",
      "Epoch 15/50\n",
      "10/10 [==============================] - 2s 177ms/step - loss: 84.4550 - accuracy: 0.7895\n",
      "Epoch 16/50\n",
      "10/10 [==============================] - 2s 177ms/step - loss: 34.5369 - accuracy: 0.8783\n",
      "Epoch 17/50\n",
      "10/10 [==============================] - 2s 175ms/step - loss: 67.7270 - accuracy: 0.7862\n",
      "Epoch 18/50\n",
      "10/10 [==============================] - 2s 178ms/step - loss: 18.1974 - accuracy: 0.8980\n",
      "Epoch 19/50\n",
      "10/10 [==============================] - 2s 173ms/step - loss: 24.7580 - accuracy: 0.8914\n",
      "Epoch 20/50\n",
      "10/10 [==============================] - 2s 173ms/step - loss: 6.6372 - accuracy: 0.9704\n",
      "Epoch 21/50\n",
      "10/10 [==============================] - 2s 175ms/step - loss: 9.6560 - accuracy: 0.9507\n",
      "Epoch 22/50\n",
      "10/10 [==============================] - 2s 177ms/step - loss: 5.4836 - accuracy: 0.9671\n",
      "Epoch 23/50\n",
      "10/10 [==============================] - 2s 179ms/step - loss: 2.8542 - accuracy: 0.9770\n",
      "Epoch 24/50\n",
      "10/10 [==============================] - 2s 176ms/step - loss: 12.6113 - accuracy: 0.9079\n",
      "Epoch 25/50\n",
      "10/10 [==============================] - 2s 174ms/step - loss: 36.4746 - accuracy: 0.8849\n",
      "Epoch 26/50\n",
      "10/10 [==============================] - 2s 174ms/step - loss: 54.3530 - accuracy: 0.8487\n",
      "Epoch 27/50\n",
      "10/10 [==============================] - 2s 174ms/step - loss: 14.6561 - accuracy: 0.9309\n",
      "Epoch 28/50\n",
      "10/10 [==============================] - 2s 175ms/step - loss: 21.9097 - accuracy: 0.9178\n",
      "Epoch 29/50\n",
      "10/10 [==============================] - 2s 180ms/step - loss: 2.6665 - accuracy: 0.9704\n",
      "Epoch 30/50\n",
      "10/10 [==============================] - 2s 206ms/step - loss: 1.3288 - accuracy: 0.9803\n",
      "Epoch 31/50\n",
      "10/10 [==============================] - 2s 177ms/step - loss: 1.1214 - accuracy: 0.9836\n",
      "Epoch 32/50\n",
      "10/10 [==============================] - 2s 175ms/step - loss: 0.2006 - accuracy: 0.9967\n",
      "Epoch 33/50\n",
      "10/10 [==============================] - 2s 176ms/step - loss: 0.2785 - accuracy: 0.9934\n",
      "Epoch 34/50\n",
      "10/10 [==============================] - 2s 180ms/step - loss: 7.1298 - accuracy: 0.9539\n",
      "Epoch 35/50\n",
      "10/10 [==============================] - 2s 174ms/step - loss: 6.5077 - accuracy: 0.9605\n",
      "Epoch 36/50\n",
      "10/10 [==============================] - 2s 174ms/step - loss: 4.1119 - accuracy: 0.9638\n",
      "Epoch 37/50\n",
      "10/10 [==============================] - 2s 174ms/step - loss: 3.1308 - accuracy: 0.9803\n",
      "Epoch 38/50\n",
      "10/10 [==============================] - 2s 175ms/step - loss: 1.6533 - accuracy: 0.9901\n",
      "Epoch 39/50\n",
      "10/10 [==============================] - 2s 177ms/step - loss: 1.4470 - accuracy: 0.9803\n",
      "Epoch 40/50\n",
      "10/10 [==============================] - 2s 180ms/step - loss: 0.5743 - accuracy: 0.9934\n",
      "Epoch 41/50\n",
      "10/10 [==============================] - 2s 175ms/step - loss: 4.2462 - accuracy: 0.9803\n",
      "Epoch 42/50\n",
      "10/10 [==============================] - 2s 174ms/step - loss: 2.4794 - accuracy: 0.9836\n",
      "Epoch 43/50\n",
      "10/10 [==============================] - 2s 174ms/step - loss: 0.3151 - accuracy: 0.9967\n",
      "Epoch 44/50\n",
      "10/10 [==============================] - 2s 175ms/step - loss: 0.8060 - accuracy: 0.9967\n",
      "Epoch 45/50\n",
      "10/10 [==============================] - 2s 178ms/step - loss: 0.1026 - accuracy: 0.9967\n",
      "Epoch 46/50\n",
      "10/10 [==============================] - 2s 179ms/step - loss: 0.9500 - accuracy: 0.9967\n",
      "Epoch 47/50\n",
      "10/10 [==============================] - 2s 175ms/step - loss: 0.3384 - accuracy: 0.9967\n",
      "Epoch 48/50\n",
      "10/10 [==============================] - 2s 205ms/step - loss: 1.0017 - accuracy: 0.9967\n",
      "Epoch 49/50\n",
      "10/10 [==============================] - 2s 175ms/step - loss: 0.4347 - accuracy: 0.9868\n",
      "Epoch 50/50\n",
      "10/10 [==============================] - 2s 179ms/step - loss: 3.3697 - accuracy: 0.9638\n"
     ]
    },
    {
     "data": {
      "text/plain": [
       "<keras.callbacks.History at 0x7c9eebd11d50>"
      ]
     },
     "execution_count": 26,
     "metadata": {},
     "output_type": "execute_result"
    }
   ],
   "source": [
    "model.fit(train_data, train_lables, batch_size=32, epochs=50)"
   ]
  },
  {
   "cell_type": "code",
   "execution_count": 27,
   "id": "b11c4267",
   "metadata": {
    "execution": {
     "iopub.execute_input": "2023-08-22T06:52:15.005150Z",
     "iopub.status.busy": "2023-08-22T06:52:15.004098Z",
     "iopub.status.idle": "2023-08-22T06:52:17.512983Z",
     "shell.execute_reply": "2023-08-22T06:52:17.511752Z"
    },
    "papermill": {
     "duration": 2.586581,
     "end_time": "2023-08-22T06:52:17.516063",
     "exception": false,
     "start_time": "2023-08-22T06:52:14.929482",
     "status": "completed"
    },
    "tags": []
   },
   "outputs": [],
   "source": [
    "test_data,test_label=get_data_from_file(\"images/Test\")"
   ]
  },
  {
   "cell_type": "code",
   "execution_count": 28,
   "id": "f37d0b2d",
   "metadata": {
    "execution": {
     "iopub.execute_input": "2023-08-22T06:52:17.666070Z",
     "iopub.status.busy": "2023-08-22T06:52:17.665402Z",
     "iopub.status.idle": "2023-08-22T06:52:17.679971Z",
     "shell.execute_reply": "2023-08-22T06:52:17.678760Z"
    },
    "papermill": {
     "duration": 0.092757,
     "end_time": "2023-08-22T06:52:17.682564",
     "exception": false,
     "start_time": "2023-08-22T06:52:17.589807",
     "status": "completed"
    },
    "tags": []
   },
   "outputs": [
    {
     "name": "stdout",
     "output_type": "stream",
     "text": [
      "(123, 100, 100, 3) (123,)\n"
     ]
    }
   ],
   "source": [
    "test_data=np.array(test_data)\n",
    "test_label=np.array(test_label)\n",
    "print(test_data.shape,test_label.shape)"
   ]
  },
  {
   "cell_type": "code",
   "execution_count": 29,
   "id": "092d9d47",
   "metadata": {
    "execution": {
     "iopub.execute_input": "2023-08-22T06:52:17.832924Z",
     "iopub.status.busy": "2023-08-22T06:52:17.832208Z",
     "iopub.status.idle": "2023-08-22T06:52:17.840113Z",
     "shell.execute_reply": "2023-08-22T06:52:17.839106Z"
    },
    "papermill": {
     "duration": 0.086284,
     "end_time": "2023-08-22T06:52:17.842355",
     "exception": false,
     "start_time": "2023-08-22T06:52:17.756071",
     "status": "completed"
    },
    "tags": []
   },
   "outputs": [
    {
     "data": {
      "text/plain": [
       "(123, 3)"
      ]
     },
     "execution_count": 29,
     "metadata": {},
     "output_type": "execute_result"
    }
   ],
   "source": [
    "test_label = np.array([category2label[label] for label in test_label])\n",
    "test_label = to_categorical(test_label)\n",
    "test_label.shape"
   ]
  },
  {
   "cell_type": "code",
   "execution_count": 30,
   "id": "ad76a7ec",
   "metadata": {
    "execution": {
     "iopub.execute_input": "2023-08-22T06:52:17.993288Z",
     "iopub.status.busy": "2023-08-22T06:52:17.992776Z",
     "iopub.status.idle": "2023-08-22T06:52:18.000337Z",
     "shell.execute_reply": "2023-08-22T06:52:17.999185Z"
    },
    "papermill": {
     "duration": 0.085926,
     "end_time": "2023-08-22T06:52:18.002836",
     "exception": false,
     "start_time": "2023-08-22T06:52:17.916910",
     "status": "completed"
    },
    "tags": []
   },
   "outputs": [
    {
     "data": {
      "text/plain": [
       "(123, 30000)"
      ]
     },
     "execution_count": 30,
     "metadata": {},
     "output_type": "execute_result"
    }
   ],
   "source": [
    "test_data = test_data.reshape(len(test_data), -1)\n",
    "test_data.shape"
   ]
  },
  {
   "cell_type": "code",
   "execution_count": 31,
   "id": "5567c779",
   "metadata": {
    "execution": {
     "iopub.execute_input": "2023-08-22T06:52:18.157530Z",
     "iopub.status.busy": "2023-08-22T06:52:18.156692Z",
     "iopub.status.idle": "2023-08-22T06:52:18.529521Z",
     "shell.execute_reply": "2023-08-22T06:52:18.528514Z"
    },
    "papermill": {
     "duration": 0.452846,
     "end_time": "2023-08-22T06:52:18.531975",
     "exception": false,
     "start_time": "2023-08-22T06:52:18.079129",
     "status": "completed"
    },
    "tags": []
   },
   "outputs": [
    {
     "name": "stdout",
     "output_type": "stream",
     "text": [
      "4/4 [==============================] - 0s 20ms/step - loss: 18.8036 - accuracy: 0.9024\n"
     ]
    },
    {
     "data": {
      "text/plain": [
       "[18.803647994995117, 0.9024389982223511]"
      ]
     },
     "execution_count": 31,
     "metadata": {},
     "output_type": "execute_result"
    }
   ],
   "source": [
    "model.evaluate(test_data, test_label)"
   ]
  },
  {
   "cell_type": "code",
   "execution_count": 32,
   "id": "b488507e",
   "metadata": {
    "execution": {
     "iopub.execute_input": "2023-08-22T06:52:18.683688Z",
     "iopub.status.busy": "2023-08-22T06:52:18.682629Z",
     "iopub.status.idle": "2023-08-22T06:52:18.969988Z",
     "shell.execute_reply": "2023-08-22T06:52:18.969066Z"
    },
    "papermill": {
     "duration": 0.366054,
     "end_time": "2023-08-22T06:52:18.972613",
     "exception": false,
     "start_time": "2023-08-22T06:52:18.606559",
     "status": "completed"
    },
    "tags": []
   },
   "outputs": [
    {
     "name": "stdout",
     "output_type": "stream",
     "text": [
      "4/4 [==============================] - 0s 21ms/step\n"
     ]
    }
   ],
   "source": [
    "pred = model.predict(test_data).argmax(axis=1)"
   ]
  },
  {
   "cell_type": "code",
   "execution_count": 33,
   "id": "6adf95c5",
   "metadata": {
    "execution": {
     "iopub.execute_input": "2023-08-22T06:52:19.126133Z",
     "iopub.status.busy": "2023-08-22T06:52:19.125072Z",
     "iopub.status.idle": "2023-08-22T06:52:19.132275Z",
     "shell.execute_reply": "2023-08-22T06:52:19.131041Z"
    },
    "papermill": {
     "duration": 0.086274,
     "end_time": "2023-08-22T06:52:19.134579",
     "exception": false,
     "start_time": "2023-08-22T06:52:19.048305",
     "status": "completed"
    },
    "tags": []
   },
   "outputs": [
    {
     "data": {
      "text/plain": [
       "array([2, 2, 2, 2, 2, 2, 2, 2, 2, 2])"
      ]
     },
     "execution_count": 33,
     "metadata": {},
     "output_type": "execute_result"
    }
   ],
   "source": [
    "pred[:10]"
   ]
  },
  {
   "cell_type": "code",
   "execution_count": 34,
   "id": "8d6e0660",
   "metadata": {
    "execution": {
     "iopub.execute_input": "2023-08-22T06:52:19.290972Z",
     "iopub.status.busy": "2023-08-22T06:52:19.289872Z",
     "iopub.status.idle": "2023-08-22T06:52:19.300546Z",
     "shell.execute_reply": "2023-08-22T06:52:19.299388Z"
    },
    "papermill": {
     "duration": 0.092583,
     "end_time": "2023-08-22T06:52:19.303042",
     "exception": false,
     "start_time": "2023-08-22T06:52:19.210459",
     "status": "completed"
    },
    "tags": []
   },
   "outputs": [
    {
     "data": {
      "text/plain": [
       "(100, 100, 3)"
      ]
     },
     "execution_count": 34,
     "metadata": {},
     "output_type": "execute_result"
    }
   ],
   "source": [
    "test_img = \"images/Test/Charmander/2201.jpg\"\n",
    "\n",
    "img = image.load_img(test_img, target_size=(100,100))\n",
    "img = image.img_to_array(img)\n",
    "img.shape"
   ]
  },
  {
   "cell_type": "code",
   "execution_count": 35,
   "id": "157b9b86",
   "metadata": {
    "execution": {
     "iopub.execute_input": "2023-08-22T06:52:19.457272Z",
     "iopub.status.busy": "2023-08-22T06:52:19.456418Z",
     "iopub.status.idle": "2023-08-22T06:52:19.740428Z",
     "shell.execute_reply": "2023-08-22T06:52:19.739167Z"
    },
    "papermill": {
     "duration": 0.363564,
     "end_time": "2023-08-22T06:52:19.743097",
     "exception": false,
     "start_time": "2023-08-22T06:52:19.379533",
     "status": "completed"
    },
    "tags": []
   },
   "outputs": [
    {
     "data": {
      "image/png": "[encoded data removed]",
      "text/plain": [
       "<Figure size 640x480 with 1 Axes>"
      ]
     },
     "metadata": {},
     "output_type": "display_data"
    }
   ],
   "source": [
    "plt.imshow(img.astype('int'));"
   ]
  },
  {
   "cell_type": "code",
   "execution_count": 36,
   "id": "9c2cfc5a",
   "metadata": {
    "execution": {
     "iopub.execute_input": "2023-08-22T06:52:19.898113Z",
     "iopub.status.busy": "2023-08-22T06:52:19.897715Z",
     "iopub.status.idle": "2023-08-22T06:52:19.906268Z",
     "shell.execute_reply": "2023-08-22T06:52:19.905212Z"
    },
    "papermill": {
     "duration": 0.089085,
     "end_time": "2023-08-22T06:52:19.908758",
     "exception": false,
     "start_time": "2023-08-22T06:52:19.819673",
     "status": "completed"
    },
    "tags": []
   },
   "outputs": [
    {
     "data": {
      "text/plain": [
       "(1, 30000)"
      ]
     },
     "execution_count": 36,
     "metadata": {},
     "output_type": "execute_result"
    }
   ],
   "source": [
    "img = img.reshape(1, 30000)\n",
    "img.shape"
   ]
  },
  {
   "cell_type": "code",
   "execution_count": 37,
   "id": "844c18ad",
   "metadata": {
    "execution": {
     "iopub.execute_input": "2023-08-22T06:52:20.064020Z",
     "iopub.status.busy": "2023-08-22T06:52:20.063119Z",
     "iopub.status.idle": "2023-08-22T06:52:20.148909Z",
     "shell.execute_reply": "2023-08-22T06:52:20.147762Z"
    },
    "papermill": {
     "duration": 0.166773,
     "end_time": "2023-08-22T06:52:20.151804",
     "exception": false,
     "start_time": "2023-08-22T06:52:19.985031",
     "status": "completed"
    },
    "tags": []
   },
   "outputs": [
    {
     "name": "stdout",
     "output_type": "stream",
     "text": [
      "1/1 [==============================] - 0s 29ms/step\n"
     ]
    },
    {
     "data": {
      "text/plain": [
       "'Charmander'"
      ]
     },
     "execution_count": 37,
     "metadata": {},
     "output_type": "execute_result"
    }
   ],
   "source": [
    "pred = label2category[model.predict(img).argmax()]\n",
    "pred"
   ]
  }
 ],
 "metadata": {
  "kernelspec": {
   "display_name": "Python 3",
   "language": "python",
   "name": "python3"
  },
  "language_info": {
   "codemirror_mode": {
    "name": "ipython",
    "version": 3
   },
   "file_extension": ".py",
   "mimetype": "text/x-python",
   "name": "python",
   "nbconvert_exporter": "python",
   "pygments_lexer": "ipython3",
   "version": "3.10.12"
  },
  "papermill": {
   "default_parameters": {},
   "duration": 208.883099,
   "end_time": "2023-08-22T06:52:22.784715",
   "environment_variables": {},
   "exception": null,
   "input_path": "__notebook__.ipynb",
   "output_path": "__notebook__.ipynb",
   "parameters": {},
   "start_time": "2023-08-22T06:48:53.901616",
   "version": "2.4.0"
  }
 },
 "nbformat": 4,
 "nbformat_minor": 5
}
